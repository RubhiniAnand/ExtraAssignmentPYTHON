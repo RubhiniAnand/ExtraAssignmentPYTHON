{
 "cells": [
  {
   "cell_type": "code",
   "execution_count": 1,
   "id": "cdea20bf",
   "metadata": {},
   "outputs": [
    {
     "name": "stdout",
     "output_type": "stream",
     "text": [
      "Hope AI\n"
     ]
    }
   ],
   "source": [
    "print(\"Hope AI\")"
   ]
  },
  {
   "cell_type": "code",
   "execution_count": 4,
   "id": "7603cf43",
   "metadata": {},
   "outputs": [
    {
     "name": "stdout",
     "output_type": "stream",
     "text": [
      "Enter your institute name:HOPE Artificial Intelligence\n",
      "HOPE Artificial Intelligence\n"
     ]
    }
   ],
   "source": [
    "name=input(\"Enter your institute name:\")\n",
    "print(name)"
   ]
  },
  {
   "cell_type": "code",
   "execution_count": 5,
   "id": "0a10f84f",
   "metadata": {},
   "outputs": [
    {
     "name": "stdout",
     "output_type": "stream",
     "text": [
      "Enter Your Name:Rubhini S\n",
      "Rubhini S\n",
      "Enter your age:28\n",
      "28\n",
      "Enter your School name:Vivekananda School\n",
      "Vivekananda School\n",
      "Enter your Degree:MCA\n",
      "MCA\n"
     ]
    }
   ],
   "source": [
    "name=input(\"Enter Your Name:\")\n",
    "age=int(input(\"Enter your age:\"))\n",
    "schoolName=input(\"Enter your School name:\")\n",
    "degree=input(\"Enter your Degree:\")"
   ]
  },
  {
   "cell_type": "code",
   "execution_count": 8,
   "id": "a1ae81ba",
   "metadata": {},
   "outputs": [
    {
     "name": "stdout",
     "output_type": "stream",
     "text": [
      "A: 43\n",
      "B: 34\n",
      "Addition: 77\n",
      "Subtraction: 9\n",
      "Multiplication: 1462\n",
      "Float Division: 1.2647058823529411\n",
      "Floor DIvision: 1\n",
      "Modulo: 9\n",
      "Power: 34508611856016952192871159710674768120457665758914571449\n"
     ]
    }
   ],
   "source": [
    "a=43\n",
    "print(\"A:\",a)\n",
    "b=34\n",
    "print(\"B:\",b)\n",
    "print(\"Addition:\",a+b)\n",
    "print(\"Subtraction:\",a-b)\n",
    "print(\"Multiplication:\",a*b)\n",
    "print(\"Float Division:\",a/b)\n",
    "print(\"Floor DIvision:\",a//b)\n",
    "print(\"Modulo:\",a%b)\n",
    "print(\"Power:\",a**b)"
   ]
  },
  {
   "cell_type": "code",
   "execution_count": null,
   "id": "7a27d23d",
   "metadata": {},
   "outputs": [],
   "source": []
  }
 ],
 "metadata": {
  "kernelspec": {
   "display_name": "Python 3 (ipykernel)",
   "language": "python",
   "name": "python3"
  },
  "language_info": {
   "codemirror_mode": {
    "name": "ipython",
    "version": 3
   },
   "file_extension": ".py",
   "mimetype": "text/x-python",
   "name": "python",
   "nbconvert_exporter": "python",
   "pygments_lexer": "ipython3",
   "version": "3.11.4"
  }
 },
 "nbformat": 4,
 "nbformat_minor": 5
}
